{
  "nbformat": 4,
  "nbformat_minor": 0,
  "metadata": {
    "colab": {
      "name": "final.ipynb",
      "provenance": [],
      "authorship_tag": "ABX9TyPyulPw4rmdUnEDoR3zDysP",
      "include_colab_link": true
    },
    "kernelspec": {
      "name": "python3",
      "display_name": "Python 3"
    },
    "language_info": {
      "name": "python"
    }
  },
  "cells": [
    {
      "cell_type": "markdown",
      "metadata": {
        "id": "view-in-github",
        "colab_type": "text"
      },
      "source": [
        "<a href=\"https://colab.research.google.com/github/anhemxanh123/final/blob/main/final.ipynb\" target=\"_parent\"><img src=\"https://colab.research.google.com/assets/colab-badge.svg\" alt=\"Open In Colab\"/></a>"
      ]
    },
    {
      "cell_type": "markdown",
      "metadata": {
        "id": "qqdm-SBy7fwE"
      },
      "source": [
        "**1.Import essential and visualization libraries / packages**"
      ]
    },
    {
      "cell_type": "code",
      "metadata": {
        "id": "ND5EntaSxk32"
      },
      "source": [
        "import os\n",
        "import pandas as pd\n",
        "import numpy as np\n",
        "import csv\n",
        "import matplotlib.pyplot as plt\n",
        "\n"
      ],
      "execution_count": 90,
      "outputs": []
    },
    {
      "cell_type": "markdown",
      "metadata": {
        "id": "hTdBNFhSBzmH"
      },
      "source": [
        "**2. Read in the csv files as a dataframe**"
      ]
    },
    {
      "cell_type": "code",
      "metadata": {
        "colab": {
          "base_uri": "https://localhost:8080/",
          "height": 536
        },
        "id": "maBOTz9zB7xb",
        "outputId": "dc571092-f1d8-487e-e3ec-09e2e4d7b738"
      },
      "source": [
        "path = 'Sac.csv'\n",
        "df = pd.read_csv(path)\n",
        "df.info()\n",
        "df.head()"
      ],
      "execution_count": 64,
      "outputs": [
        {
          "output_type": "stream",
          "name": "stdout",
          "text": [
            "<class 'pandas.core.frame.DataFrame'>\n",
            "RangeIndex: 985 entries, 0 to 984\n",
            "Data columns (total 12 columns):\n",
            " #   Column     Non-Null Count  Dtype  \n",
            "---  ------     --------------  -----  \n",
            " 0   street     985 non-null    object \n",
            " 1   city       985 non-null    object \n",
            " 2   zip        985 non-null    int64  \n",
            " 3   state      985 non-null    object \n",
            " 4   beds       985 non-null    int64  \n",
            " 5   baths      985 non-null    int64  \n",
            " 6   sq__ft     985 non-null    int64  \n",
            " 7   type       985 non-null    object \n",
            " 8   sale_date  985 non-null    object \n",
            " 9   price      985 non-null    int64  \n",
            " 10  latitude   985 non-null    float64\n",
            " 11  longitude  985 non-null    float64\n",
            "dtypes: float64(2), int64(5), object(5)\n",
            "memory usage: 92.5+ KB\n"
          ]
        },
        {
          "output_type": "execute_result",
          "data": {
            "text/html": [
              "<div>\n",
              "<style scoped>\n",
              "    .dataframe tbody tr th:only-of-type {\n",
              "        vertical-align: middle;\n",
              "    }\n",
              "\n",
              "    .dataframe tbody tr th {\n",
              "        vertical-align: top;\n",
              "    }\n",
              "\n",
              "    .dataframe thead th {\n",
              "        text-align: right;\n",
              "    }\n",
              "</style>\n",
              "<table border=\"1\" class=\"dataframe\">\n",
              "  <thead>\n",
              "    <tr style=\"text-align: right;\">\n",
              "      <th></th>\n",
              "      <th>street</th>\n",
              "      <th>city</th>\n",
              "      <th>zip</th>\n",
              "      <th>state</th>\n",
              "      <th>beds</th>\n",
              "      <th>baths</th>\n",
              "      <th>sq__ft</th>\n",
              "      <th>type</th>\n",
              "      <th>sale_date</th>\n",
              "      <th>price</th>\n",
              "      <th>latitude</th>\n",
              "      <th>longitude</th>\n",
              "    </tr>\n",
              "  </thead>\n",
              "  <tbody>\n",
              "    <tr>\n",
              "      <th>0</th>\n",
              "      <td>3526 HIGH ST</td>\n",
              "      <td>SACRAMENTO</td>\n",
              "      <td>95838</td>\n",
              "      <td>CA</td>\n",
              "      <td>2</td>\n",
              "      <td>1</td>\n",
              "      <td>836</td>\n",
              "      <td>Residential</td>\n",
              "      <td>Wed May 21 00:00:00 EDT 2008</td>\n",
              "      <td>59222</td>\n",
              "      <td>38.631913</td>\n",
              "      <td>-121.434879</td>\n",
              "    </tr>\n",
              "    <tr>\n",
              "      <th>1</th>\n",
              "      <td>51 OMAHA CT</td>\n",
              "      <td>SACRAMENTO</td>\n",
              "      <td>95823</td>\n",
              "      <td>CA</td>\n",
              "      <td>3</td>\n",
              "      <td>1</td>\n",
              "      <td>1167</td>\n",
              "      <td>Residential</td>\n",
              "      <td>Wed May 21 00:00:00 EDT 2008</td>\n",
              "      <td>68212</td>\n",
              "      <td>38.478902</td>\n",
              "      <td>-121.431028</td>\n",
              "    </tr>\n",
              "    <tr>\n",
              "      <th>2</th>\n",
              "      <td>2796 BRANCH ST</td>\n",
              "      <td>SACRAMENTO</td>\n",
              "      <td>95815</td>\n",
              "      <td>CA</td>\n",
              "      <td>2</td>\n",
              "      <td>1</td>\n",
              "      <td>796</td>\n",
              "      <td>Residential</td>\n",
              "      <td>Wed May 21 00:00:00 EDT 2008</td>\n",
              "      <td>68880</td>\n",
              "      <td>38.618305</td>\n",
              "      <td>-121.443839</td>\n",
              "    </tr>\n",
              "    <tr>\n",
              "      <th>3</th>\n",
              "      <td>2805 JANETTE WAY</td>\n",
              "      <td>SACRAMENTO</td>\n",
              "      <td>95815</td>\n",
              "      <td>CA</td>\n",
              "      <td>2</td>\n",
              "      <td>1</td>\n",
              "      <td>852</td>\n",
              "      <td>Residential</td>\n",
              "      <td>Wed May 21 00:00:00 EDT 2008</td>\n",
              "      <td>69307</td>\n",
              "      <td>38.616835</td>\n",
              "      <td>-121.439146</td>\n",
              "    </tr>\n",
              "    <tr>\n",
              "      <th>4</th>\n",
              "      <td>6001 MCMAHON DR</td>\n",
              "      <td>SACRAMENTO</td>\n",
              "      <td>95824</td>\n",
              "      <td>CA</td>\n",
              "      <td>2</td>\n",
              "      <td>1</td>\n",
              "      <td>797</td>\n",
              "      <td>Residential</td>\n",
              "      <td>Wed May 21 00:00:00 EDT 2008</td>\n",
              "      <td>81900</td>\n",
              "      <td>38.519470</td>\n",
              "      <td>-121.435768</td>\n",
              "    </tr>\n",
              "  </tbody>\n",
              "</table>\n",
              "</div>"
            ],
            "text/plain": [
              "             street        city    zip  ...  price   latitude   longitude\n",
              "0      3526 HIGH ST  SACRAMENTO  95838  ...  59222  38.631913 -121.434879\n",
              "1       51 OMAHA CT  SACRAMENTO  95823  ...  68212  38.478902 -121.431028\n",
              "2    2796 BRANCH ST  SACRAMENTO  95815  ...  68880  38.618305 -121.443839\n",
              "3  2805 JANETTE WAY  SACRAMENTO  95815  ...  69307  38.616835 -121.439146\n",
              "4   6001 MCMAHON DR  SACRAMENTO  95824  ...  81900  38.519470 -121.435768\n",
              "\n",
              "[5 rows x 12 columns]"
            ]
          },
          "metadata": {},
          "execution_count": 64
        }
      ]
    },
    {
      "cell_type": "markdown",
      "metadata": {
        "id": "xKw0zcfC8JiS"
      },
      "source": [
        "**3. How many types can sell?**"
      ]
    },
    {
      "cell_type": "code",
      "metadata": {
        "colab": {
          "base_uri": "https://localhost:8080/"
        },
        "id": "2vbGLdrk8L6h",
        "outputId": "3d8c3004-ecb4-4f42-df78-3dab456365e8"
      },
      "source": [
        "print(\"It have \",df[\"type\"].nunique(), \"type\" )\n",
        "print(set(df['type']))"
      ],
      "execution_count": 73,
      "outputs": [
        {
          "output_type": "stream",
          "name": "stdout",
          "text": [
            "It have  4 type\n",
            "{'Condo', 'Residential', 'Unkown', 'Multi-Family'}\n"
          ]
        }
      ]
    },
    {
      "cell_type": "markdown",
      "metadata": {
        "id": "eXfpJa1W_H0q"
      },
      "source": [
        "**4. Which cities have houses for sale and which cities have the most houses for sale?**"
      ]
    },
    {
      "cell_type": "code",
      "metadata": {
        "colab": {
          "base_uri": "https://localhost:8080/"
        },
        "id": "8rJeAOqu_7GR",
        "outputId": "c3b3eaf7-952b-4ea6-8571-b610b48ecb72"
      },
      "source": [
        "df['city'].value_counts()\n"
      ],
      "execution_count": 16,
      "outputs": [
        {
          "output_type": "execute_result",
          "data": {
            "text/plain": [
              "SACRAMENTO         439\n",
              "ELK GROVE          114\n",
              "LINCOLN             72\n",
              "ROSEVILLE           48\n",
              "CITRUS HEIGHTS      35\n",
              "ANTELOPE            33\n",
              "RANCHO CORDOVA      28\n",
              "EL DORADO HILLS     23\n",
              "GALT                21\n",
              "NORTH HIGHLANDS     21\n",
              "CARMICHAEL          20\n",
              "FOLSOM              17\n",
              "ROCKLIN             17\n",
              "RIO LINDA           13\n",
              "ORANGEVALE          11\n",
              "PLACERVILLE         10\n",
              "CAMERON PARK         9\n",
              "FAIR OAKS            9\n",
              "WILTON               5\n",
              "AUBURN               5\n",
              "GOLD RIVER           4\n",
              "ELVERTA              4\n",
              "WEST SACRAMENTO      3\n",
              "POLLOCK PINES        3\n",
              "RANCHO MURIETA       3\n",
              "GRANITE BAY          3\n",
              "LOOMIS               2\n",
              "EL DORADO            2\n",
              "GREENWOOD            1\n",
              "WALNUT GROVE         1\n",
              "SLOUGHHOUSE          1\n",
              "GARDEN VALLEY        1\n",
              "SHINGLE SPRINGS      1\n",
              "MEADOW VISTA         1\n",
              "FORESTHILL           1\n",
              "COOL                 1\n",
              "MATHER               1\n",
              "PENRYN               1\n",
              "DIAMOND SPRINGS      1\n",
              "Name: city, dtype: int64"
            ]
          },
          "metadata": {},
          "execution_count": 16
        }
      ]
    },
    {
      "cell_type": "code",
      "metadata": {
        "colab": {
          "base_uri": "https://localhost:8080/"
        },
        "id": "AX55pvNh-r5j",
        "outputId": "af8f25b4-f11b-415e-f81a-1ef20899e3b8"
      },
      "source": [
        "\n",
        "print(\"The city have the most houses for sale : \",df['city'].value_counts().idxmax() )"
      ],
      "execution_count": 12,
      "outputs": [
        {
          "output_type": "stream",
          "name": "stdout",
          "text": [
            "The city have the most houses for sale :  SACRAMENTO\n"
          ]
        }
      ]
    },
    {
      "cell_type": "markdown",
      "metadata": {
        "id": "acdXZ6QIHuSd"
      },
      "source": [
        "**5. Minimum, maximum and average value of houses**"
      ]
    },
    {
      "cell_type": "code",
      "metadata": {
        "colab": {
          "base_uri": "https://localhost:8080/"
        },
        "id": "lp00Hr0RGOyj",
        "outputId": "258dbbbf-1f5f-4342-acde-2b9698af30ae"
      },
      "source": [
        "print(\"Mean: \",df[\"price\"].mean())\n",
        "print(\"Maximum: \",df[\"price\"].max())\n",
        "print(\"Minimum: \",df[\"price\"].min()) \n"
      ],
      "execution_count": 37,
      "outputs": [
        {
          "output_type": "stream",
          "name": "stdout",
          "text": [
            "Mean:  234144.26395939087\n",
            "Maximum:  884790\n",
            "Minimum:  1551\n"
          ]
        }
      ]
    },
    {
      "cell_type": "code",
      "metadata": {
        "colab": {
          "base_uri": "https://localhost:8080/",
          "height": 81
        },
        "id": "pW1j88f8EB_P",
        "outputId": "106c20f4-e3d8-4610-800c-f8b87ac93804"
      },
      "source": [
        "df.nsmallest(1, 'price')"
      ],
      "execution_count": 39,
      "outputs": [
        {
          "output_type": "execute_result",
          "data": {
            "text/html": [
              "<div>\n",
              "<style scoped>\n",
              "    .dataframe tbody tr th:only-of-type {\n",
              "        vertical-align: middle;\n",
              "    }\n",
              "\n",
              "    .dataframe tbody tr th {\n",
              "        vertical-align: top;\n",
              "    }\n",
              "\n",
              "    .dataframe thead th {\n",
              "        text-align: right;\n",
              "    }\n",
              "</style>\n",
              "<table border=\"1\" class=\"dataframe\">\n",
              "  <thead>\n",
              "    <tr style=\"text-align: right;\">\n",
              "      <th></th>\n",
              "      <th>street</th>\n",
              "      <th>city</th>\n",
              "      <th>zip</th>\n",
              "      <th>state</th>\n",
              "      <th>beds</th>\n",
              "      <th>baths</th>\n",
              "      <th>sq__ft</th>\n",
              "      <th>type</th>\n",
              "      <th>sale_date</th>\n",
              "      <th>price</th>\n",
              "      <th>latitude</th>\n",
              "      <th>longitude</th>\n",
              "    </tr>\n",
              "  </thead>\n",
              "  <tbody>\n",
              "    <tr>\n",
              "      <th>865</th>\n",
              "      <td>3720 VISTA DE MADERA</td>\n",
              "      <td>LINCOLN</td>\n",
              "      <td>95648</td>\n",
              "      <td>CA</td>\n",
              "      <td>3</td>\n",
              "      <td>3</td>\n",
              "      <td>0</td>\n",
              "      <td>Residential</td>\n",
              "      <td>Fri May 16 00:00:00 EDT 2008</td>\n",
              "      <td>1551</td>\n",
              "      <td>38.851645</td>\n",
              "      <td>-121.231742</td>\n",
              "    </tr>\n",
              "  </tbody>\n",
              "</table>\n",
              "</div>"
            ],
            "text/plain": [
              "                   street     city    zip  ... price   latitude   longitude\n",
              "865  3720 VISTA DE MADERA  LINCOLN  95648  ...  1551  38.851645 -121.231742\n",
              "\n",
              "[1 rows x 12 columns]"
            ]
          },
          "metadata": {},
          "execution_count": 39
        }
      ]
    },
    {
      "cell_type": "code",
      "metadata": {
        "colab": {
          "base_uri": "https://localhost:8080/",
          "height": 81
        },
        "id": "SjWXCHBoHyMD",
        "outputId": "83ece334-9e26-415d-a68d-4ef40f5a924a"
      },
      "source": [
        "df.nlargest(1, 'price')"
      ],
      "execution_count": 40,
      "outputs": [
        {
          "output_type": "execute_result",
          "data": {
            "text/html": [
              "<div>\n",
              "<style scoped>\n",
              "    .dataframe tbody tr th:only-of-type {\n",
              "        vertical-align: middle;\n",
              "    }\n",
              "\n",
              "    .dataframe tbody tr th {\n",
              "        vertical-align: top;\n",
              "    }\n",
              "\n",
              "    .dataframe thead th {\n",
              "        text-align: right;\n",
              "    }\n",
              "</style>\n",
              "<table border=\"1\" class=\"dataframe\">\n",
              "  <thead>\n",
              "    <tr style=\"text-align: right;\">\n",
              "      <th></th>\n",
              "      <th>street</th>\n",
              "      <th>city</th>\n",
              "      <th>zip</th>\n",
              "      <th>state</th>\n",
              "      <th>beds</th>\n",
              "      <th>baths</th>\n",
              "      <th>sq__ft</th>\n",
              "      <th>type</th>\n",
              "      <th>sale_date</th>\n",
              "      <th>price</th>\n",
              "      <th>latitude</th>\n",
              "      <th>longitude</th>\n",
              "    </tr>\n",
              "  </thead>\n",
              "  <tbody>\n",
              "    <tr>\n",
              "      <th>864</th>\n",
              "      <td>9401 BARREL RACER CT</td>\n",
              "      <td>WILTON</td>\n",
              "      <td>95693</td>\n",
              "      <td>CA</td>\n",
              "      <td>4</td>\n",
              "      <td>3</td>\n",
              "      <td>4400</td>\n",
              "      <td>Residential</td>\n",
              "      <td>Fri May 16 00:00:00 EDT 2008</td>\n",
              "      <td>884790</td>\n",
              "      <td>38.415298</td>\n",
              "      <td>-121.194858</td>\n",
              "    </tr>\n",
              "  </tbody>\n",
              "</table>\n",
              "</div>"
            ],
            "text/plain": [
              "                   street    city    zip  ...   price   latitude   longitude\n",
              "864  9401 BARREL RACER CT  WILTON  95693  ...  884790  38.415298 -121.194858\n",
              "\n",
              "[1 rows x 12 columns]"
            ]
          },
          "metadata": {},
          "execution_count": 40
        }
      ]
    },
    {
      "cell_type": "markdown",
      "metadata": {
        "id": "ff9GpJSCWkzG"
      },
      "source": [
        "**6. The number of odd and even zip codes**"
      ]
    },
    {
      "cell_type": "code",
      "metadata": {
        "colab": {
          "base_uri": "https://localhost:8080/"
        },
        "id": "URFc7aFtHyLL",
        "outputId": "88181fd2-474c-4d2a-dd02-26bab023f787"
      },
      "source": [
        "def odd_check(x):\n",
        "    return True if x % 2 == 0 else False\n",
        "\n",
        "odd = 0\n",
        "even = 0\n",
        "lst = df['zip'].values.tolist()\n",
        "for i in lst:\n",
        "  if odd_even(i): \n",
        "    odd += 1\n",
        "  else: \n",
        "    even += 1\n",
        "print(f'There are {odd} odd and {even} even zip code ')"
      ],
      "execution_count": 62,
      "outputs": [
        {
          "output_type": "stream",
          "name": "stdout",
          "text": [
            "There are 590 odd and 395 even zip code \n"
          ]
        }
      ]
    },
    {
      "cell_type": "markdown",
      "metadata": {
        "id": "TazBWmiGhTo6"
      },
      "source": [
        "**7. Transaction value per day**"
      ]
    },
    {
      "cell_type": "code",
      "metadata": {
        "colab": {
          "base_uri": "https://localhost:8080/"
        },
        "id": "TYhJgwj9WusM",
        "outputId": "fbfc9cf9-b61b-449d-a579-2510b733bd18"
      },
      "source": [
        "df['Day'] = df['sale_date'].str.slice(0,3)\n",
        "sales = df.groupby('Day').sum()['price']\n",
        "sales"
      ],
      "execution_count": 98,
      "outputs": [
        {
          "output_type": "execute_result",
          "data": {
            "text/plain": [
              "Day\n",
              "Fri    70307130\n",
              "Mon    55304800\n",
              "Thu    19760618\n",
              "Tue    46515072\n",
              "Wed    38744480\n",
              "Name: price, dtype: int64"
            ]
          },
          "metadata": {},
          "execution_count": 98
        }
      ]
    },
    {
      "cell_type": "code",
      "metadata": {
        "colab": {
          "base_uri": "https://localhost:8080/"
        },
        "id": "4jLxqsL4sqTy",
        "outputId": "42b647db-6032-4e1a-e7d6-12cf9ef710f3"
      },
      "source": [
        "df['sq__ft'].value_counts()\n"
      ],
      "execution_count": 142,
      "outputs": [
        {
          "output_type": "execute_result",
          "data": {
            "text/plain": [
              "0       171\n",
              "1120      8\n",
              "795       6\n",
              "1410      5\n",
              "1039      5\n",
              "       ... \n",
              "988       1\n",
              "1656      1\n",
              "876       1\n",
              "1659      1\n",
              "1235      1\n",
              "Name: sq__ft, Length: 603, dtype: int64"
            ]
          },
          "metadata": {},
          "execution_count": 142
        }
      ]
    },
    {
      "cell_type": "markdown",
      "metadata": {
        "id": "4iPSWsZ11n2b"
      },
      "source": [
        "**8. Statistics on the number of houses with low, normal and expensive prices**"
      ]
    },
    {
      "cell_type": "code",
      "metadata": {
        "colab": {
          "base_uri": "https://localhost:8080/"
        },
        "id": "n1KQP6OElyt9",
        "outputId": "89c11420-4df0-42d1-bd07-c5f2707473de"
      },
      "source": [
        "cheap = 0\n",
        "normal = 0\n",
        "expensive = 0\n",
        "for i in range(len(df)):\n",
        "  if df.loc[i,'price'] < 5000 : cheap += 1\n",
        "  elif 5000 < df.loc[i,'price'] < 10000 : normal += 1\n",
        "  elif df.loc[i,'price'] > 10000 : expensive += 1\n",
        "print(f\"There are {cheap} affordable homes,  {normal} mid-priced homes, and, {expensive}  expensive homes\")"
      ],
      "execution_count": 126,
      "outputs": [
        {
          "output_type": "stream",
          "name": "stdout",
          "text": [
            "There are 51 affordable homes,  0 mid-priced homes, and, 934  expensive homes\n"
          ]
        }
      ]
    },
    {
      "cell_type": "markdown",
      "metadata": {
        "id": "usWglh217vjN"
      },
      "source": [
        "**9. The graph shows the value obtained by day**"
      ]
    },
    {
      "cell_type": "code",
      "metadata": {
        "colab": {
          "base_uri": "https://localhost:8080/",
          "height": 307
        },
        "id": "kL7wMHbDiLGN",
        "outputId": "52a8c924-7df9-4daf-b33e-67a29b4a99fc"
      },
      "source": [
        "days = []\n",
        "for Day, sale in sales.items():\n",
        "  days.append(Day)\n",
        "print(days)\n",
        "\n",
        "plt.bar(x = days, height = sales )\n",
        "plt.xticks(days)\n",
        "plt.xlabel('Day')\n",
        "plt.ylabel('Price')\n",
        "plt.show()"
      ],
      "execution_count": 105,
      "outputs": [
        {
          "output_type": "stream",
          "name": "stdout",
          "text": [
            "['Fri', 'Mon', 'Thu', 'Tue', 'Wed']\n"
          ]
        },
        {
          "output_type": "display_data",
          "data": {
            "image/png": "[encoded data removed]",
            "text/plain": [
              "<Figure size 432x288 with 1 Axes>"
            ]
          },
          "metadata": {
            "needs_background": "light"
          }
        }
      ]
    },
    {
      "cell_type": "markdown",
      "metadata": {
        "id": "ed8iKotP4SAc"
      },
      "source": [
        "**10. The graph shows the percentage of homes sold**"
      ]
    },
    {
      "cell_type": "code",
      "metadata": {
        "colab": {
          "base_uri": "https://localhost:8080/",
          "height": 482
        },
        "id": "rGfPq_dS2Lv4",
        "outputId": "c62e569a-2799-40a9-945e-891267db5623"
      },
      "source": [
        "types = df['type'].unique()\n",
        "plt.pie(df['type'].value_counts(),shadow = True,labels=types,autopct='%1.1f%%')\n",
        "plt.title('Type of houses')\n",
        "plt.axis('equal')\n",
        "plt.legend()\n",
        "fig = plt.gcf()\n",
        "fig.set_size_inches(8,8)\n",
        "plt.show()\n",
        "\n"
      ],
      "execution_count": 138,
      "outputs": [
        {
          "output_type": "display_data",
          "data": {
            "image/png": "[encoded data removed]",
            "text/plain": [
              "<Figure size 576x576 with 1 Axes>"
            ]
          },
          "metadata": {}
        }
      ]
    }
  ]
}